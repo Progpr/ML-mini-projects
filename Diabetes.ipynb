{
  "nbformat": 4,
  "nbformat_minor": 0,
  "metadata": {
    "colab": {
      "provenance": [],
      "include_colab_link": true
    },
    "kernelspec": {
      "name": "python3",
      "display_name": "Python 3"
    },
    "language_info": {
      "name": "python"
    }
  },
  "cells": [
    {
      "cell_type": "markdown",
      "metadata": {
        "id": "view-in-github",
        "colab_type": "text"
      },
      "source": [
        "<a href=\"https://colab.research.google.com/github/Progpr/ML-mini-projects/blob/main/Diabetes.ipynb\" target=\"_parent\"><img src=\"https://colab.research.google.com/assets/colab-badge.svg\" alt=\"Open In Colab\"/></a>"
      ]
    },
    {
      "cell_type": "code",
      "execution_count": null,
      "metadata": {
        "id": "eQB89dWxvaT3"
      },
      "outputs": [],
      "source": [
        "import pandas as pd\n",
        "import numpy as np\n",
        "import statistics as st\n",
        "import matplotlib.pyplot as plt"
      ]
    },
    {
      "cell_type": "code",
      "source": [
        "d=pd.read_csv('diabetes.csv')\n",
        "d.info()\n"
      ],
      "metadata": {
        "id": "3-AXxabnvoI9",
        "colab": {
          "base_uri": "https://localhost:8080/"
        },
        "outputId": "3636a1c4-c58d-45f5-93d1-ecce413c4aa9"
      },
      "execution_count": null,
      "outputs": [
        {
          "output_type": "stream",
          "name": "stdout",
          "text": [
            "<class 'pandas.core.frame.DataFrame'>\n",
            "RangeIndex: 768 entries, 0 to 767\n",
            "Data columns (total 9 columns):\n",
            " #   Column                    Non-Null Count  Dtype  \n",
            "---  ------                    --------------  -----  \n",
            " 0   Pregnancies               768 non-null    int64  \n",
            " 1   Glucose                   768 non-null    int64  \n",
            " 2   BloodPressure             768 non-null    int64  \n",
            " 3   SkinThickness             768 non-null    int64  \n",
            " 4   Insulin                   768 non-null    int64  \n",
            " 5   BMI                       768 non-null    float64\n",
            " 6   DiabetesPedigreeFunction  768 non-null    float64\n",
            " 7   Age                       768 non-null    int64  \n",
            " 8   Outcome                   768 non-null    int64  \n",
            "dtypes: float64(2), int64(7)\n",
            "memory usage: 54.1 KB\n"
          ]
        }
      ]
    },
    {
      "cell_type": "code",
      "source": [
        "a=d.drop('Outcome',axis=1)\n",
        "X=a\n",
        "y=d['Outcome']"
      ],
      "metadata": {
        "id": "AmjFkT4G6rdp"
      },
      "execution_count": null,
      "outputs": []
    },
    {
      "cell_type": "code",
      "source": [
        "#logistic regression\n",
        "from sklearn import linear_model\n",
        "from sklearn.model_selection import train_test_split\n",
        "X_train, X_test, y_train, y_test = train_test_split(X, y, test_size = 0.3, random_state = 5)\n",
        "\n",
        "from sklearn.preprocessing import StandardScaler\n",
        "sc_x = StandardScaler()\n",
        "xtrain = sc_x.fit_transform(X_train)\n",
        "xtest = sc_x.transform(X_test)\n",
        "\n",
        "from sklearn.linear_model import LogisticRegression\n",
        "classifier = LogisticRegression(random_state = 7)\n",
        "classifier.fit(xtrain, y_train)\n",
        "y_pred = classifier.predict(xtest)\n",
        "\n",
        "results = confusion_matrix(y_test, y_pred)\n",
        "print ('Confusion Matrix :')\n",
        "print(results)\n",
        "print ('Accuracy Score is',accuracy_score(y_test, y_pred))\n",
        "print ('Classification Report : ')\n",
        "print (classification_report(y_test, y_pred))"
      ],
      "metadata": {
        "colab": {
          "base_uri": "https://localhost:8080/"
        },
        "id": "-ZZ5m6j1c01F",
        "outputId": "cc759215-5999-40cc-df2d-0b5f814392c7"
      },
      "execution_count": null,
      "outputs": [
        {
          "output_type": "stream",
          "name": "stdout",
          "text": [
            "Confusion Matrix :\n",
            "[[134  26]\n",
            " [ 23  48]]\n",
            "Accuracy Score is 0.7878787878787878\n",
            "Classification Report : \n",
            "              precision    recall  f1-score   support\n",
            "\n",
            "           0       0.85      0.84      0.85       160\n",
            "           1       0.65      0.68      0.66        71\n",
            "\n",
            "    accuracy                           0.79       231\n",
            "   macro avg       0.75      0.76      0.75       231\n",
            "weighted avg       0.79      0.79      0.79       231\n",
            "\n"
          ]
        }
      ]
    },
    {
      "cell_type": "code",
      "source": [
        "#knn classification\n",
        "from sklearn import preprocessing\n",
        "from sklearn.model_selection import train_test_split\n",
        "from sklearn.neighbors import KNeighborsClassifier\n",
        "from sklearn.metrics import classification_report, confusion_matrix, accuracy_score\n",
        "\n",
        "\n",
        "x_data = a\n",
        "y_data = d['Outcome']\n",
        "MinMaxScaler = preprocessing.MinMaxScaler()\n",
        "X_data_minmax = MinMaxScaler.fit_transform(x_data)\n",
        "data = pd.DataFrame(X_data_minmax,columns=['Pregnancies', 'Glucose', 'BloodPressure', 'SkinThickness','Insulin','BMI','DiabetesPedigreeFunction','Age'])\n",
        "\n",
        "X_train, X_test, y_train, y_test = train_test_split(data, y_data,test_size=0.2, random_state = 1)\n",
        "knn_clf=KNeighborsClassifier()\n",
        "knn_clf.fit(X_train,y_train)\n",
        "ypred=knn_clf.predict(X_test)\n",
        "\n",
        "result = confusion_matrix(y_test, ypred)\n",
        "print('Confusion Matrix:')\n",
        "print(result)\n",
        "result1 = classification_report(y_test, ypred)\n",
        "print('Classification Report:')\n",
        "print (result1)\n",
        "result2 = accuracy_score(y_test,ypred)\n",
        "print('Accuracy:',result2)"
      ],
      "metadata": {
        "colab": {
          "base_uri": "https://localhost:8080/"
        },
        "id": "ndRkeE4r3eit",
        "outputId": "b65870b0-77f6-467b-db41-91c02c6e72e5"
      },
      "execution_count": null,
      "outputs": [
        {
          "output_type": "stream",
          "name": "stdout",
          "text": [
            "Confusion Matrix:\n",
            "[[88 11]\n",
            " [20 35]]\n",
            "Classification Report:\n",
            "              precision    recall  f1-score   support\n",
            "\n",
            "           0       0.81      0.89      0.85        99\n",
            "           1       0.76      0.64      0.69        55\n",
            "\n",
            "    accuracy                           0.80       154\n",
            "   macro avg       0.79      0.76      0.77       154\n",
            "weighted avg       0.80      0.80      0.79       154\n",
            "\n",
            "Accuracy: 0.7987012987012987\n"
          ]
        }
      ]
    },
    {
      "cell_type": "code",
      "source": [
        "len(d)"
      ],
      "metadata": {
        "colab": {
          "base_uri": "https://localhost:8080/"
        },
        "id": "wcpqKOXf97kF",
        "outputId": "d73c34a8-9c4f-4d3f-9d3f-55c84b3b767d"
      },
      "execution_count": null,
      "outputs": [
        {
          "output_type": "execute_result",
          "data": {
            "text/plain": [
              "768"
            ]
          },
          "metadata": {},
          "execution_count": 153
        }
      ]
    },
    {
      "cell_type": "code",
      "source": [
        "ypred=knn_clf.predict(data[len(d)-1:])\n",
        "print(ypred)"
      ],
      "metadata": {
        "colab": {
          "base_uri": "https://localhost:8080/"
        },
        "id": "kb8XB4OoCiK7",
        "outputId": "ea702926-d8cd-4eec-c86f-e5f76c9168cf"
      },
      "execution_count": null,
      "outputs": [
        {
          "output_type": "stream",
          "name": "stdout",
          "text": [
            "[0]\n"
          ]
        }
      ]
    }
  ]
}